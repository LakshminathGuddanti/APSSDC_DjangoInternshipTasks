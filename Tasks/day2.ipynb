{
 "cells": [
  {
   "cell_type": "code",
   "execution_count": 2,
   "id": "d9673fff",
   "metadata": {},
   "outputs": [
    {
     "name": "stdout",
     "output_type": "stream",
     "text": [
      "Enter an integer value:10\n",
      "Enter an floating point number:20.0\n",
      "Conversion of int value is:  10.0\n",
      "Conversion of float value is:  20\n",
      "Both case in string is: ' 10 ' ' 20.0 '\n"
     ]
    }
   ],
   "source": [
    "i=int(input(\"Enter an integer value:\"))\n",
    "f=float(input(\"Enter an floating point number:\"))\n",
    "print(\"Conversion of int value is: \",float(i))\n",
    "print(\"Conversion of float value is: \",int(f))\n",
    "print(\"Both case in string is: '\",str(i),\"' '\",str(f),\"'\")"
   ]
  },
  {
   "cell_type": "code",
   "execution_count": null,
   "id": "4acb3d8a",
   "metadata": {},
   "outputs": [],
   "source": []
  }
 ],
 "metadata": {
  "kernelspec": {
   "display_name": "Python 3",
   "language": "python",
   "name": "python3"
  },
  "language_info": {
   "codemirror_mode": {
    "name": "ipython",
    "version": 3
   },
   "file_extension": ".py",
   "mimetype": "text/x-python",
   "name": "python",
   "nbconvert_exporter": "python",
   "pygments_lexer": "ipython3",
   "version": "3.8.5"
  }
 },
 "nbformat": 4,
 "nbformat_minor": 5
}
